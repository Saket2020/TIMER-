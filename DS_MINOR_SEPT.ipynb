{
  "nbformat": 4,
  "nbformat_minor": 0,
  "metadata": {
    "colab": {
      "provenance": [],
      "collapsed_sections": [],
      "authorship_tag": "ABX9TyPFbftr1xrCAhruH3s897fx",
      "include_colab_link": true
    },
    "kernelspec": {
      "name": "python3",
      "display_name": "Python 3"
    },
    "language_info": {
      "name": "python"
    }
  },
  "cells": [
    {
      "cell_type": "markdown",
      "metadata": {
        "id": "view-in-github",
        "colab_type": "text"
      },
      "source": [
        "<a href=\"https://colab.research.google.com/github/Saket2020/TIMER-/blob/main/DS_MINOR_SEPT.ipynb\" target=\"_parent\"><img src=\"https://colab.research.google.com/assets/colab-badge.svg\" alt=\"Open In Colab\"/></a>"
      ]
    },
    {
      "cell_type": "code",
      "execution_count": null,
      "metadata": {
        "colab": {
          "base_uri": "https://localhost:8080/"
        },
        "id": "5_-2eQG5TcGK",
        "outputId": "cf0d03ae-b268-4b00-cf5b-f7d13a557223"
      },
      "outputs": [
        {
          "output_type": "stream",
          "name": "stdout",
          "text": [
            "Enter the time in hours: 00\n",
            "Enter the time in minutes: 00\n",
            "Enter the time in seconds: 3\n",
            "time over!\n"
          ]
        }
      ],
      "source": [
        "import time\n",
        "import datetime\n",
        " \n",
        "def countdown(h, m, s):\n",
        " \n",
        "    # Calculate the total number of seconds\n",
        "    total_seconds = h * 3600 + m * 60 + s\n",
        " \n",
        "   \n",
        "    while total_seconds > 0:\n",
        " \n",
        "        \n",
        "        timer = datetime.timedelta(seconds = total_seconds)\n",
        "        \n",
        "        \n",
        "        print(timer, end=\"\\r\")\n",
        " \n",
        "        time.sleep(1)\n",
        " \n",
        "        \n",
        "        total_seconds -= 1\n",
        " \n",
        "    print(\"time over!\")\n",
        "def start_time(self):\n",
        "        self.pause = False\n",
        "        while self.time_left > 0:\n",
        "            m, s = divmod(self.time_left, 60)\n",
        "\n",
        "            h = 0\n",
        "            if m > 60:\n",
        "               \n",
        "                h, m = divmod(m, 60)\n",
        "\n",
        "            self.time_display.config(text=f\"Time Left: {h}: {m}: {s}\")\n",
        "            self.time_display.update()\n",
        "            # sleep function: for 1 second\n",
        "            time.sleep(1)\n",
        "            self.time_left = self.time_left -1\n",
        "            \n",
        "            if self.pause == True:\n",
        "                break\n",
        "def pause_time(self):\n",
        "        self.pause = True\n",
        "\n",
        "        m, s = divmod(self.time_left, 60)\n",
        "        h = 0\n",
        "        if m > 60:\n",
        "            # hour minute\n",
        "            h, m = divmod(m, 60)\n",
        "\n",
        "        self.time_display.config(text=f\"Time Left: {h}: {m}: {s}\")\n",
        "        self.time_display.update()\n",
        "\n",
        " \n",
        "\n",
        "h = input(\"Enter the time in hours: \")\n",
        "m = input(\"Enter the time in minutes: \")\n",
        "s = input(\"Enter the time in seconds: \")\n",
        "countdown(int(h), int(m), int(s))\n"
      ]
    }
  ]
}